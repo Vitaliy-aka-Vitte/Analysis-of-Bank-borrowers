{
 "cells": [
  {
   "cell_type": "markdown",
   "id": "386f2ae7",
   "metadata": {
    "deletable": false,
    "editable": false,
    "id": "386f2ae7"
   },
   "source": [
    "# Исследование надежности заемщиков\n"
   ]
  },
  {
   "cell_type": "markdown",
   "id": "26613308",
   "metadata": {
    "deletable": false,
    "editable": false,
    "id": "26613308"
   },
   "source": "## Загрузка данных"
  },
  {
   "cell_type": "code",
   "execution_count": 1,
   "id": "77a68a90",
   "metadata": {
    "ExecuteTime": {
     "end_time": "2025-09-18T10:30:00.761364Z",
     "start_time": "2025-09-18T10:29:59.949205Z"
    },
    "deletable": false,
    "id": "77a68a90"
   },
   "outputs": [],
   "source": [
    "import pandas as pd\n",
    "\n",
    "try:\n",
    "    data = pd.read_csv('/datasets/data.csv')\n",
    "except:\n",
    "    data = pd.read_csv('https://code.s3.yandex.net/datasets/data.csv')"
   ]
  },
  {
   "cell_type": "code",
   "execution_count": 2,
   "id": "b0451a9a",
   "metadata": {
    "ExecuteTime": {
     "end_time": "2025-09-18T10:30:00.835892Z",
     "start_time": "2025-09-18T10:30:00.783366Z"
    },
    "deletable": false,
    "id": "b0451a9a",
    "outputId": "1a8f3ef2-d323-4ec2-ddf7-89670b5944c4"
   },
   "outputs": [
    {
     "data": {
      "text/html": [
       "<div>\n",
       "<style scoped>\n",
       "    .dataframe tbody tr th:only-of-type {\n",
       "        vertical-align: middle;\n",
       "    }\n",
       "\n",
       "    .dataframe tbody tr th {\n",
       "        vertical-align: top;\n",
       "    }\n",
       "\n",
       "    .dataframe thead th {\n",
       "        text-align: right;\n",
       "    }\n",
       "</style>\n",
       "<table border=\"1\" class=\"dataframe\">\n",
       "  <thead>\n",
       "    <tr style=\"text-align: right;\">\n",
       "      <th></th>\n",
       "      <th>children</th>\n",
       "      <th>days_employed</th>\n",
       "      <th>dob_years</th>\n",
       "      <th>education</th>\n",
       "      <th>education_id</th>\n",
       "      <th>family_status</th>\n",
       "      <th>family_status_id</th>\n",
       "      <th>gender</th>\n",
       "      <th>income_type</th>\n",
       "      <th>debt</th>\n",
       "      <th>total_income</th>\n",
       "      <th>purpose</th>\n",
       "    </tr>\n",
       "  </thead>\n",
       "  <tbody>\n",
       "    <tr>\n",
       "      <th>0</th>\n",
       "      <td>1</td>\n",
       "      <td>-8437.673028</td>\n",
       "      <td>42</td>\n",
       "      <td>высшее</td>\n",
       "      <td>0</td>\n",
       "      <td>женат / замужем</td>\n",
       "      <td>0</td>\n",
       "      <td>F</td>\n",
       "      <td>сотрудник</td>\n",
       "      <td>0</td>\n",
       "      <td>253875.639453</td>\n",
       "      <td>покупка жилья</td>\n",
       "    </tr>\n",
       "    <tr>\n",
       "      <th>1</th>\n",
       "      <td>1</td>\n",
       "      <td>-4024.803754</td>\n",
       "      <td>36</td>\n",
       "      <td>среднее</td>\n",
       "      <td>1</td>\n",
       "      <td>женат / замужем</td>\n",
       "      <td>0</td>\n",
       "      <td>F</td>\n",
       "      <td>сотрудник</td>\n",
       "      <td>0</td>\n",
       "      <td>112080.014102</td>\n",
       "      <td>приобретение автомобиля</td>\n",
       "    </tr>\n",
       "    <tr>\n",
       "      <th>2</th>\n",
       "      <td>0</td>\n",
       "      <td>-5623.422610</td>\n",
       "      <td>33</td>\n",
       "      <td>Среднее</td>\n",
       "      <td>1</td>\n",
       "      <td>женат / замужем</td>\n",
       "      <td>0</td>\n",
       "      <td>M</td>\n",
       "      <td>сотрудник</td>\n",
       "      <td>0</td>\n",
       "      <td>145885.952297</td>\n",
       "      <td>покупка жилья</td>\n",
       "    </tr>\n",
       "    <tr>\n",
       "      <th>3</th>\n",
       "      <td>3</td>\n",
       "      <td>-4124.747207</td>\n",
       "      <td>32</td>\n",
       "      <td>среднее</td>\n",
       "      <td>1</td>\n",
       "      <td>женат / замужем</td>\n",
       "      <td>0</td>\n",
       "      <td>M</td>\n",
       "      <td>сотрудник</td>\n",
       "      <td>0</td>\n",
       "      <td>267628.550329</td>\n",
       "      <td>дополнительное образование</td>\n",
       "    </tr>\n",
       "    <tr>\n",
       "      <th>4</th>\n",
       "      <td>0</td>\n",
       "      <td>340266.072047</td>\n",
       "      <td>53</td>\n",
       "      <td>среднее</td>\n",
       "      <td>1</td>\n",
       "      <td>гражданский брак</td>\n",
       "      <td>1</td>\n",
       "      <td>F</td>\n",
       "      <td>пенсионер</td>\n",
       "      <td>0</td>\n",
       "      <td>158616.077870</td>\n",
       "      <td>сыграть свадьбу</td>\n",
       "    </tr>\n",
       "    <tr>\n",
       "      <th>5</th>\n",
       "      <td>0</td>\n",
       "      <td>-926.185831</td>\n",
       "      <td>27</td>\n",
       "      <td>высшее</td>\n",
       "      <td>0</td>\n",
       "      <td>гражданский брак</td>\n",
       "      <td>1</td>\n",
       "      <td>M</td>\n",
       "      <td>компаньон</td>\n",
       "      <td>0</td>\n",
       "      <td>255763.565419</td>\n",
       "      <td>покупка жилья</td>\n",
       "    </tr>\n",
       "    <tr>\n",
       "      <th>6</th>\n",
       "      <td>0</td>\n",
       "      <td>-2879.202052</td>\n",
       "      <td>43</td>\n",
       "      <td>высшее</td>\n",
       "      <td>0</td>\n",
       "      <td>женат / замужем</td>\n",
       "      <td>0</td>\n",
       "      <td>F</td>\n",
       "      <td>компаньон</td>\n",
       "      <td>0</td>\n",
       "      <td>240525.971920</td>\n",
       "      <td>операции с жильем</td>\n",
       "    </tr>\n",
       "    <tr>\n",
       "      <th>7</th>\n",
       "      <td>0</td>\n",
       "      <td>-152.779569</td>\n",
       "      <td>50</td>\n",
       "      <td>СРЕДНЕЕ</td>\n",
       "      <td>1</td>\n",
       "      <td>женат / замужем</td>\n",
       "      <td>0</td>\n",
       "      <td>M</td>\n",
       "      <td>сотрудник</td>\n",
       "      <td>0</td>\n",
       "      <td>135823.934197</td>\n",
       "      <td>образование</td>\n",
       "    </tr>\n",
       "    <tr>\n",
       "      <th>8</th>\n",
       "      <td>2</td>\n",
       "      <td>-6929.865299</td>\n",
       "      <td>35</td>\n",
       "      <td>ВЫСШЕЕ</td>\n",
       "      <td>0</td>\n",
       "      <td>гражданский брак</td>\n",
       "      <td>1</td>\n",
       "      <td>F</td>\n",
       "      <td>сотрудник</td>\n",
       "      <td>0</td>\n",
       "      <td>95856.832424</td>\n",
       "      <td>на проведение свадьбы</td>\n",
       "    </tr>\n",
       "    <tr>\n",
       "      <th>9</th>\n",
       "      <td>0</td>\n",
       "      <td>-2188.756445</td>\n",
       "      <td>41</td>\n",
       "      <td>среднее</td>\n",
       "      <td>1</td>\n",
       "      <td>женат / замужем</td>\n",
       "      <td>0</td>\n",
       "      <td>M</td>\n",
       "      <td>сотрудник</td>\n",
       "      <td>0</td>\n",
       "      <td>144425.938277</td>\n",
       "      <td>покупка жилья для семьи</td>\n",
       "    </tr>\n",
       "    <tr>\n",
       "      <th>10</th>\n",
       "      <td>2</td>\n",
       "      <td>-4171.483647</td>\n",
       "      <td>36</td>\n",
       "      <td>высшее</td>\n",
       "      <td>0</td>\n",
       "      <td>женат / замужем</td>\n",
       "      <td>0</td>\n",
       "      <td>M</td>\n",
       "      <td>компаньон</td>\n",
       "      <td>0</td>\n",
       "      <td>113943.491460</td>\n",
       "      <td>покупка недвижимости</td>\n",
       "    </tr>\n",
       "    <tr>\n",
       "      <th>11</th>\n",
       "      <td>0</td>\n",
       "      <td>-792.701887</td>\n",
       "      <td>40</td>\n",
       "      <td>среднее</td>\n",
       "      <td>1</td>\n",
       "      <td>женат / замужем</td>\n",
       "      <td>0</td>\n",
       "      <td>F</td>\n",
       "      <td>сотрудник</td>\n",
       "      <td>0</td>\n",
       "      <td>77069.234271</td>\n",
       "      <td>покупка коммерческой недвижимости</td>\n",
       "    </tr>\n",
       "    <tr>\n",
       "      <th>12</th>\n",
       "      <td>0</td>\n",
       "      <td>NaN</td>\n",
       "      <td>65</td>\n",
       "      <td>среднее</td>\n",
       "      <td>1</td>\n",
       "      <td>гражданский брак</td>\n",
       "      <td>1</td>\n",
       "      <td>M</td>\n",
       "      <td>пенсионер</td>\n",
       "      <td>0</td>\n",
       "      <td>NaN</td>\n",
       "      <td>сыграть свадьбу</td>\n",
       "    </tr>\n",
       "    <tr>\n",
       "      <th>13</th>\n",
       "      <td>0</td>\n",
       "      <td>-1846.641941</td>\n",
       "      <td>54</td>\n",
       "      <td>неоконченное высшее</td>\n",
       "      <td>2</td>\n",
       "      <td>женат / замужем</td>\n",
       "      <td>0</td>\n",
       "      <td>F</td>\n",
       "      <td>сотрудник</td>\n",
       "      <td>0</td>\n",
       "      <td>130458.228857</td>\n",
       "      <td>приобретение автомобиля</td>\n",
       "    </tr>\n",
       "    <tr>\n",
       "      <th>14</th>\n",
       "      <td>0</td>\n",
       "      <td>-1844.956182</td>\n",
       "      <td>56</td>\n",
       "      <td>высшее</td>\n",
       "      <td>0</td>\n",
       "      <td>гражданский брак</td>\n",
       "      <td>1</td>\n",
       "      <td>F</td>\n",
       "      <td>компаньон</td>\n",
       "      <td>1</td>\n",
       "      <td>165127.911772</td>\n",
       "      <td>покупка жилой недвижимости</td>\n",
       "    </tr>\n",
       "    <tr>\n",
       "      <th>15</th>\n",
       "      <td>1</td>\n",
       "      <td>-972.364419</td>\n",
       "      <td>26</td>\n",
       "      <td>среднее</td>\n",
       "      <td>1</td>\n",
       "      <td>женат / замужем</td>\n",
       "      <td>0</td>\n",
       "      <td>F</td>\n",
       "      <td>сотрудник</td>\n",
       "      <td>0</td>\n",
       "      <td>116820.904450</td>\n",
       "      <td>строительство собственной недвижимости</td>\n",
       "    </tr>\n",
       "    <tr>\n",
       "      <th>16</th>\n",
       "      <td>0</td>\n",
       "      <td>-1719.934226</td>\n",
       "      <td>35</td>\n",
       "      <td>среднее</td>\n",
       "      <td>1</td>\n",
       "      <td>женат / замужем</td>\n",
       "      <td>0</td>\n",
       "      <td>F</td>\n",
       "      <td>сотрудник</td>\n",
       "      <td>0</td>\n",
       "      <td>289202.704229</td>\n",
       "      <td>недвижимость</td>\n",
       "    </tr>\n",
       "    <tr>\n",
       "      <th>17</th>\n",
       "      <td>0</td>\n",
       "      <td>-2369.999720</td>\n",
       "      <td>33</td>\n",
       "      <td>высшее</td>\n",
       "      <td>0</td>\n",
       "      <td>гражданский брак</td>\n",
       "      <td>1</td>\n",
       "      <td>M</td>\n",
       "      <td>сотрудник</td>\n",
       "      <td>0</td>\n",
       "      <td>90410.586745</td>\n",
       "      <td>строительство недвижимости</td>\n",
       "    </tr>\n",
       "    <tr>\n",
       "      <th>18</th>\n",
       "      <td>0</td>\n",
       "      <td>400281.136913</td>\n",
       "      <td>53</td>\n",
       "      <td>среднее</td>\n",
       "      <td>1</td>\n",
       "      <td>вдовец / вдова</td>\n",
       "      <td>2</td>\n",
       "      <td>F</td>\n",
       "      <td>пенсионер</td>\n",
       "      <td>0</td>\n",
       "      <td>56823.777243</td>\n",
       "      <td>на покупку подержанного автомобиля</td>\n",
       "    </tr>\n",
       "    <tr>\n",
       "      <th>19</th>\n",
       "      <td>0</td>\n",
       "      <td>-10038.818549</td>\n",
       "      <td>48</td>\n",
       "      <td>СРЕДНЕЕ</td>\n",
       "      <td>1</td>\n",
       "      <td>в разводе</td>\n",
       "      <td>3</td>\n",
       "      <td>F</td>\n",
       "      <td>сотрудник</td>\n",
       "      <td>0</td>\n",
       "      <td>242831.107982</td>\n",
       "      <td>на покупку своего автомобиля</td>\n",
       "    </tr>\n",
       "  </tbody>\n",
       "</table>\n",
       "</div>"
      ],
      "text/plain": [
       "    children  days_employed  dob_years            education  education_id  \\\n",
       "0          1   -8437.673028         42               высшее             0   \n",
       "1          1   -4024.803754         36              среднее             1   \n",
       "2          0   -5623.422610         33              Среднее             1   \n",
       "3          3   -4124.747207         32              среднее             1   \n",
       "4          0  340266.072047         53              среднее             1   \n",
       "5          0    -926.185831         27               высшее             0   \n",
       "6          0   -2879.202052         43               высшее             0   \n",
       "7          0    -152.779569         50              СРЕДНЕЕ             1   \n",
       "8          2   -6929.865299         35               ВЫСШЕЕ             0   \n",
       "9          0   -2188.756445         41              среднее             1   \n",
       "10         2   -4171.483647         36               высшее             0   \n",
       "11         0    -792.701887         40              среднее             1   \n",
       "12         0            NaN         65              среднее             1   \n",
       "13         0   -1846.641941         54  неоконченное высшее             2   \n",
       "14         0   -1844.956182         56               высшее             0   \n",
       "15         1    -972.364419         26              среднее             1   \n",
       "16         0   -1719.934226         35              среднее             1   \n",
       "17         0   -2369.999720         33               высшее             0   \n",
       "18         0  400281.136913         53              среднее             1   \n",
       "19         0  -10038.818549         48              СРЕДНЕЕ             1   \n",
       "\n",
       "       family_status  family_status_id gender income_type  debt  \\\n",
       "0    женат / замужем                 0      F   сотрудник     0   \n",
       "1    женат / замужем                 0      F   сотрудник     0   \n",
       "2    женат / замужем                 0      M   сотрудник     0   \n",
       "3    женат / замужем                 0      M   сотрудник     0   \n",
       "4   гражданский брак                 1      F   пенсионер     0   \n",
       "5   гражданский брак                 1      M   компаньон     0   \n",
       "6    женат / замужем                 0      F   компаньон     0   \n",
       "7    женат / замужем                 0      M   сотрудник     0   \n",
       "8   гражданский брак                 1      F   сотрудник     0   \n",
       "9    женат / замужем                 0      M   сотрудник     0   \n",
       "10   женат / замужем                 0      M   компаньон     0   \n",
       "11   женат / замужем                 0      F   сотрудник     0   \n",
       "12  гражданский брак                 1      M   пенсионер     0   \n",
       "13   женат / замужем                 0      F   сотрудник     0   \n",
       "14  гражданский брак                 1      F   компаньон     1   \n",
       "15   женат / замужем                 0      F   сотрудник     0   \n",
       "16   женат / замужем                 0      F   сотрудник     0   \n",
       "17  гражданский брак                 1      M   сотрудник     0   \n",
       "18    вдовец / вдова                 2      F   пенсионер     0   \n",
       "19         в разводе                 3      F   сотрудник     0   \n",
       "\n",
       "     total_income                                 purpose  \n",
       "0   253875.639453                           покупка жилья  \n",
       "1   112080.014102                 приобретение автомобиля  \n",
       "2   145885.952297                           покупка жилья  \n",
       "3   267628.550329              дополнительное образование  \n",
       "4   158616.077870                         сыграть свадьбу  \n",
       "5   255763.565419                           покупка жилья  \n",
       "6   240525.971920                       операции с жильем  \n",
       "7   135823.934197                             образование  \n",
       "8    95856.832424                   на проведение свадьбы  \n",
       "9   144425.938277                 покупка жилья для семьи  \n",
       "10  113943.491460                    покупка недвижимости  \n",
       "11   77069.234271       покупка коммерческой недвижимости  \n",
       "12            NaN                         сыграть свадьбу  \n",
       "13  130458.228857                 приобретение автомобиля  \n",
       "14  165127.911772              покупка жилой недвижимости  \n",
       "15  116820.904450  строительство собственной недвижимости  \n",
       "16  289202.704229                            недвижимость  \n",
       "17   90410.586745              строительство недвижимости  \n",
       "18   56823.777243      на покупку подержанного автомобиля  \n",
       "19  242831.107982            на покупку своего автомобиля  "
      ]
     },
     "execution_count": 2,
     "metadata": {},
     "output_type": "execute_result"
    }
   ],
   "source": [
    "data.head(20)"
   ]
  },
  {
   "cell_type": "markdown",
   "id": "0ed8f27f",
   "metadata": {
    "deletable": false,
    "editable": false,
    "id": "0ed8f27f"
   },
   "source": [
    "**Выведем основную информацию о датафрейме с помощью метода `info()`.**"
   ]
  },
  {
   "cell_type": "code",
   "execution_count": 3,
   "id": "ab3f863b",
   "metadata": {
    "ExecuteTime": {
     "end_time": "2025-09-18T10:30:01.107954Z",
     "start_time": "2025-09-18T10:30:01.068957Z"
    },
    "deletable": false,
    "id": "ab3f863b",
    "outputId": "15376089-8dad-46c9-b520-c05248d43158"
   },
   "outputs": [
    {
     "name": "stdout",
     "output_type": "stream",
     "text": [
      "<class 'pandas.core.frame.DataFrame'>\n",
      "RangeIndex: 21525 entries, 0 to 21524\n",
      "Data columns (total 12 columns):\n",
      " #   Column            Non-Null Count  Dtype  \n",
      "---  ------            --------------  -----  \n",
      " 0   children          21525 non-null  int64  \n",
      " 1   days_employed     19351 non-null  float64\n",
      " 2   dob_years         21525 non-null  int64  \n",
      " 3   education         21525 non-null  object \n",
      " 4   education_id      21525 non-null  int64  \n",
      " 5   family_status     21525 non-null  object \n",
      " 6   family_status_id  21525 non-null  int64  \n",
      " 7   gender            21525 non-null  object \n",
      " 8   income_type       21525 non-null  object \n",
      " 9   debt              21525 non-null  int64  \n",
      " 10  total_income      19351 non-null  float64\n",
      " 11  purpose           21525 non-null  object \n",
      "dtypes: float64(2), int64(5), object(5)\n",
      "memory usage: 2.0+ MB\n"
     ]
    }
   ],
   "source": [
    "data.info()"
   ]
  },
  {
   "cell_type": "markdown",
   "id": "60e3e22d",
   "metadata": {
    "deletable": false,
    "editable": false,
    "id": "60e3e22d"
   },
   "source": "## Предобработка данных"
  },
  {
   "cell_type": "markdown",
   "id": "03dc170c",
   "metadata": {
    "deletable": false,
    "editable": false,
    "id": "03dc170c"
   },
   "source": [
    "### Удаление пропусков"
   ]
  },
  {
   "cell_type": "markdown",
   "id": "a4f54eef",
   "metadata": {
    "deletable": false,
    "editable": false,
    "id": "a4f54eef"
   },
   "source": [
    "**Выведем количество пропущенных значений для каждого столбца.**"
   ]
  },
  {
   "cell_type": "code",
   "execution_count": 4,
   "id": "2dc372b2",
   "metadata": {
    "deletable": false,
    "id": "2dc372b2",
    "outputId": "81f4d817-781c-465c-ed15-91ce4446810d"
   },
   "outputs": [
    {
     "data": {
      "text/plain": [
       "children               0\n",
       "days_employed       2174\n",
       "dob_years              0\n",
       "education              0\n",
       "education_id           0\n",
       "family_status          0\n",
       "family_status_id       0\n",
       "gender                 0\n",
       "income_type            0\n",
       "debt                   0\n",
       "total_income        2174\n",
       "purpose                0\n",
       "dtype: int64"
      ]
     },
     "execution_count": 4,
     "metadata": {},
     "output_type": "execute_result"
    }
   ],
   "source": [
    "data.isna().sum()"
   ]
  },
  {
   "cell_type": "code",
   "execution_count": 5,
   "id": "bdabfb6e",
   "metadata": {
    "deletable": false,
    "id": "bdabfb6e"
   },
   "outputs": [],
   "source": [
    "for t in data['income_type'].unique():\n",
    "    data.loc[(data['income_type'] == t) & (data['total_income'].isna()), 'total_income'] = \\\n",
    "    data.loc[(data['income_type'] == t), 'total_income'].median()"
   ]
  },
  {
   "cell_type": "code",
   "execution_count": 6,
   "id": "020c46cc",
   "metadata": {
    "deletable": false,
    "id": "020c46cc"
   },
   "outputs": [],
   "source": [
    "\n",
    "data['days_employed'] = data['days_employed'].abs()"
   ]
  },
  {
   "cell_type": "code",
   "execution_count": 7,
   "id": "cd3e6328",
   "metadata": {
    "deletable": false,
    "id": "cd3e6328",
    "outputId": "801ef80e-522b-4668-f34e-565af7432bcf"
   },
   "outputs": [
    {
     "data": {
      "text/plain": [
       "income_type\n",
       "безработный        366413.652744\n",
       "в декрете            3296.759962\n",
       "госслужащий          2689.368353\n",
       "компаньон            1547.382223\n",
       "пенсионер          365213.306266\n",
       "предприниматель       520.848083\n",
       "сотрудник            1574.202821\n",
       "студент               578.751554\n",
       "Name: days_employed, dtype: float64"
      ]
     },
     "execution_count": 7,
     "metadata": {},
     "output_type": "execute_result"
    }
   ],
   "source": [
    "data.groupby('income_type')['days_employed'].agg('median')"
   ]
  },
  {
   "cell_type": "markdown",
   "id": "90c5f058",
   "metadata": {
    "deletable": false,
    "editable": false,
    "id": "90c5f058"
   },
   "source": [
    "У двух типов (безработные и пенсионеры) получатся аномально большие значения. Исправить такие значения сложно, поэтому оставьте их как есть."
   ]
  },
  {
   "cell_type": "markdown",
   "id": "9652e50d",
   "metadata": {
    "deletable": false,
    "editable": false,
    "id": "9652e50d"
   },
   "source": [
    "**Выведем перечень уникальных значений столбца `children`.**"
   ]
  },
  {
   "cell_type": "code",
   "execution_count": 8,
   "id": "dbb37b8e",
   "metadata": {
    "deletable": false,
    "id": "dbb37b8e",
    "outputId": "6975b15c-7f95-4697-d16d-a0c79b657b03"
   },
   "outputs": [
    {
     "data": {
      "text/plain": [
       "array([ 1,  0,  3,  2, -1,  4, 20,  5])"
      ]
     },
     "execution_count": 8,
     "metadata": {},
     "output_type": "execute_result"
    }
   ],
   "source": [
    "data['children'].unique()"
   ]
  },
  {
   "cell_type": "markdown",
   "id": "2b8b0715",
   "metadata": {
    "deletable": false,
    "editable": false,
    "id": "2b8b0715"
   },
   "source": [
    "**В столбце `children` есть два аномальных значения. Удалим строки, в которых встречаются такие аномальные значения из датафрейма `data`.**"
   ]
  },
  {
   "cell_type": "code",
   "execution_count": 9,
   "id": "20009df8",
   "metadata": {
    "deletable": false,
    "id": "20009df8"
   },
   "outputs": [],
   "source": [
    "data = data[(data['children'] != -1) & (data['children'] != 20)]"
   ]
  },
  {
   "cell_type": "markdown",
   "id": "8c6ac9f1",
   "metadata": {
    "deletable": false,
    "editable": false,
    "id": "8c6ac9f1"
   },
   "source": [
    "**Ещё раз выведем перечень уникальных значений столбца `children`, чтобы убедимся, что артефакты удалены.**"
   ]
  },
  {
   "cell_type": "code",
   "execution_count": 10,
   "id": "07337b81",
   "metadata": {
    "deletable": false,
    "id": "07337b81",
    "outputId": "b2097101-d49d-44d9-901b-32a65c9463d1"
   },
   "outputs": [
    {
     "data": {
      "text/plain": [
       "array([1, 0, 3, 2, 4, 5])"
      ]
     },
     "execution_count": 10,
     "metadata": {},
     "output_type": "execute_result"
    }
   ],
   "source": [
    "data['children'].unique()"
   ]
  },
  {
   "cell_type": "markdown",
   "id": "a700b0e4",
   "metadata": {
    "deletable": false,
    "editable": false,
    "id": "a700b0e4"
   },
   "source": [
    "**Заполним пропуски в столбце `days_employed` медианными значениями по каждого типа занятости `income_type`.**"
   ]
  },
  {
   "cell_type": "code",
   "execution_count": 11,
   "id": "61946b83",
   "metadata": {
    "deletable": false,
    "id": "61946b83"
   },
   "outputs": [],
   "source": [
    "for t in data['income_type'].unique():\n",
    "    data.loc[(data['income_type'] == t) & (data['days_employed'].isna()), 'days_employed'] = \\\n",
    "    data.loc[(data['income_type'] == t), 'days_employed'].median()"
   ]
  },
  {
   "cell_type": "markdown",
   "id": "550dcd9b",
   "metadata": {
    "deletable": false,
    "editable": false,
    "id": "550dcd9b"
   },
   "source": [
    "**Убедимся, что все пропуски заполнены.**"
   ]
  },
  {
   "cell_type": "code",
   "execution_count": 12,
   "id": "937c7014",
   "metadata": {
    "deletable": false,
    "id": "937c7014",
    "outputId": "8da1e4e1-358e-4e87-98c9-f261bce0a7b2"
   },
   "outputs": [
    {
     "data": {
      "text/plain": [
       "children            0\n",
       "days_employed       0\n",
       "dob_years           0\n",
       "education           0\n",
       "education_id        0\n",
       "family_status       0\n",
       "family_status_id    0\n",
       "gender              0\n",
       "income_type         0\n",
       "debt                0\n",
       "total_income        0\n",
       "purpose             0\n",
       "dtype: int64"
      ]
     },
     "execution_count": 12,
     "metadata": {},
     "output_type": "execute_result"
    }
   ],
   "source": [
    "data.isna().sum()"
   ]
  },
  {
   "cell_type": "markdown",
   "id": "d522e295",
   "metadata": {
    "deletable": false,
    "editable": false,
    "id": "d522e295"
   },
   "source": [
    "### Изменение типов данных"
   ]
  },
  {
   "cell_type": "markdown",
   "id": "c229c581",
   "metadata": {
    "deletable": false,
    "editable": false,
    "id": "c229c581"
   },
   "source": [
    "**Заменим вещественный тип данных в столбце `total_income` на целочисленный с помощью метода `astype()`.**"
   ]
  },
  {
   "cell_type": "code",
   "execution_count": 13,
   "id": "31036462",
   "metadata": {
    "deletable": false,
    "id": "31036462"
   },
   "outputs": [],
   "source": [
    "data['total_income'] = data['total_income'].astype(int)"
   ]
  },
  {
   "cell_type": "markdown",
   "id": "b8e3d1d9",
   "metadata": {
    "deletable": false,
    "editable": false,
    "id": "b8e3d1d9"
   },
   "source": [
    "### Обработка дубликатов"
   ]
  },
  {
   "cell_type": "markdown",
   "id": "9be53c49",
   "metadata": {
    "deletable": false,
    "editable": false,
    "id": "9be53c49"
   },
   "source": [
    "**Обработаеме неявные дубликаты в столбце `education`. В этом столбце есть одни и те же значения, но записанные по-разному: с использованием заглавных и строчных букв. Приведите их к нижнему регистру.**"
   ]
  },
  {
   "cell_type": "code",
   "execution_count": 14,
   "id": "d89e73e1",
   "metadata": {
    "deletable": false,
    "id": "d89e73e1"
   },
   "outputs": [],
   "source": [
    "data['education'] = data['education'].str.lower()"
   ]
  },
  {
   "cell_type": "markdown",
   "id": "01d4500e",
   "metadata": {
    "deletable": false,
    "editable": false,
    "id": "01d4500e"
   },
   "source": [
    "**Выведем на экран количество строк-дубликатов в данных. Если такие строки присутствуют, удалите их.**"
   ]
  },
  {
   "cell_type": "code",
   "execution_count": 15,
   "id": "e10efb23",
   "metadata": {
    "deletable": false,
    "id": "e10efb23",
    "outputId": "9684deba-1934-42d1-99e1-cda61740f822"
   },
   "outputs": [
    {
     "data": {
      "text/plain": [
       "71"
      ]
     },
     "execution_count": 15,
     "metadata": {},
     "output_type": "execute_result"
    }
   ],
   "source": [
    "data.duplicated().sum()"
   ]
  },
  {
   "cell_type": "code",
   "execution_count": 16,
   "id": "df853f20",
   "metadata": {
    "deletable": false,
    "id": "df853f20"
   },
   "outputs": [],
   "source": [
    "data = data.drop_duplicates()"
   ]
  },
  {
   "cell_type": "markdown",
   "id": "627be38f",
   "metadata": {
    "deletable": false,
    "editable": false,
    "id": "627be38f"
   },
   "source": [
    "### Категоризация данных"
   ]
  },
  {
   "cell_type": "markdown",
   "id": "4684c3e0",
   "metadata": {
    "deletable": false,
    "editable": false,
    "id": "4684c3e0"
   },
   "source": [
    "**Создадим столбец `total_income_category` с категориями:**\n",
    "\n",
    "- 0–30000 — `'E'`;\n",
    "- 30001–50000 — `'D'`;\n",
    "- 50001–200000 — `'C'`;\n",
    "- 200001–1000000 — `'B'`;\n",
    "- 1000001 и выше — `'A'`.\n",
    "\n",
    "\n",
    "**Например, кредитополучателю с доходом 25000 нужно назначить категорию `'E'`, а клиенту, получающему 235000, — `'B'`. Используйте собственную функцию с именем `categorize_income()` и метод `apply()`.**"
   ]
  },
  {
   "cell_type": "code",
   "execution_count": 17,
   "id": "78965238",
   "metadata": {
    "deletable": false,
    "id": "78965238"
   },
   "outputs": [],
   "source": [
    "def categorize_income(income):\n",
    "    try:\n",
    "        if 0 <= income <= 30000:\n",
    "            return 'E'\n",
    "        elif 30001 <= income <= 50000:\n",
    "            return 'D'\n",
    "        elif 50001 <= income <= 200000:\n",
    "            return 'C'\n",
    "        elif 200001 <= income <= 1000000:\n",
    "            return 'B'\n",
    "        elif income >= 1000001:\n",
    "            return 'A'\n",
    "    except:\n",
    "        pass"
   ]
  },
  {
   "cell_type": "code",
   "execution_count": 18,
   "id": "0980ada1",
   "metadata": {
    "deletable": false,
    "id": "0980ada1"
   },
   "outputs": [],
   "source": [
    "data['total_income_category'] = data['total_income'].apply(categorize_income)"
   ]
  },
  {
   "cell_type": "markdown",
   "id": "9917bba0",
   "metadata": {
    "deletable": false,
    "editable": false,
    "id": "9917bba0"
   },
   "source": [
    "**Выведем на экран перечень уникальных целей взятия кредита из столбца `purpose`.**"
   ]
  },
  {
   "cell_type": "code",
   "execution_count": 19,
   "id": "ee07b65e",
   "metadata": {
    "deletable": false,
    "id": "ee07b65e",
    "outputId": "673c12d9-7d7e-4ae0-9812-c622c89dd244"
   },
   "outputs": [
    {
     "data": {
      "text/plain": [
       "array(['покупка жилья', 'приобретение автомобиля',\n",
       "       'дополнительное образование', 'сыграть свадьбу',\n",
       "       'операции с жильем', 'образование', 'на проведение свадьбы',\n",
       "       'покупка жилья для семьи', 'покупка недвижимости',\n",
       "       'покупка коммерческой недвижимости', 'покупка жилой недвижимости',\n",
       "       'строительство собственной недвижимости', 'недвижимость',\n",
       "       'строительство недвижимости', 'на покупку подержанного автомобиля',\n",
       "       'на покупку своего автомобиля',\n",
       "       'операции с коммерческой недвижимостью',\n",
       "       'строительство жилой недвижимости', 'жилье',\n",
       "       'операции со своей недвижимостью', 'автомобили',\n",
       "       'заняться образованием', 'сделка с подержанным автомобилем',\n",
       "       'получение образования', 'автомобиль', 'свадьба',\n",
       "       'получение дополнительного образования', 'покупка своего жилья',\n",
       "       'операции с недвижимостью', 'получение высшего образования',\n",
       "       'свой автомобиль', 'сделка с автомобилем',\n",
       "       'профильное образование', 'высшее образование',\n",
       "       'покупка жилья для сдачи', 'на покупку автомобиля', 'ремонт жилью',\n",
       "       'заняться высшим образованием'], dtype=object)"
      ]
     },
     "execution_count": 19,
     "metadata": {},
     "output_type": "execute_result"
    }
   ],
   "source": [
    "data['purpose'].unique()"
   ]
  },
  {
   "cell_type": "markdown",
   "id": "52b79d56",
   "metadata": {
    "deletable": false,
    "editable": false,
    "id": "52b79d56"
   },
   "source": [
    "**Создади функцию, которая на основании данных из столбца `purpose` сформирует новый столбец `purpose_category`, в который войдут следующие категории:**\n",
    "\n",
    "- `'операции с автомобилем'`,\n",
    "- `'операции с недвижимостью'`,\n",
    "- `'проведение свадьбы'`,\n",
    "- `'получение образования'`.\n",
    "\n"
   ]
  },
  {
   "cell_type": "code",
   "execution_count": 20,
   "id": "be41da5d",
   "metadata": {
    "deletable": false,
    "id": "be41da5d"
   },
   "outputs": [],
   "source": [
    "def categorize_purpose(row):\n",
    "    try:\n",
    "        if 'автом' in row:\n",
    "            return 'операции с автомобилем'\n",
    "        elif 'жил' in row or 'недвиж' in row:\n",
    "            return 'операции с недвижимостью'\n",
    "        elif 'свад' in row:\n",
    "            return 'проведение свадьбы'\n",
    "        elif 'образов' in row:\n",
    "            return 'получение образования'\n",
    "    except:\n",
    "        return 'нет категории'"
   ]
  },
  {
   "cell_type": "code",
   "execution_count": 21,
   "id": "94c4a19a",
   "metadata": {
    "deletable": false,
    "id": "94c4a19a"
   },
   "outputs": [],
   "source": [
    "data['purpose_category'] = data['purpose'].apply(categorize_purpose)"
   ]
  },
  {
   "cell_type": "markdown",
   "id": "3d596c34",
   "metadata": {
    "deletable": false,
    "editable": false,
    "id": "3d596c34"
   },
   "source": "### Исследование данных"
  },
  {
   "cell_type": "markdown",
   "id": "648db036",
   "metadata": {
    "deletable": false,
    "editable": false,
    "id": "648db036"
   },
   "source": "#### Зависимость между количеством детей и возвратом кредита в срок?"
  },
  {
   "cell_type": "code",
   "execution_count": 22,
   "id": "7fcff25e",
   "metadata": {
    "deletable": false,
    "id": "7fcff25e",
    "scrolled": true
   },
   "outputs": [
    {
     "name": "stdout",
     "output_type": "stream",
     "text": [
      "           debt      \n",
      "          count   sum\n",
      "children             \n",
      "0         14091  1063\n",
      "1          4808   444\n",
      "2          2052   194\n",
      "3           330    27\n",
      "4            41     4\n",
      "5             9     0\n",
      "children\n",
      "5    0.000000\n",
      "0    0.075438\n",
      "3    0.081818\n",
      "1    0.092346\n",
      "2    0.094542\n",
      "4    0.097561\n",
      "Name: debt, dtype: float64\n"
     ]
    },
    {
     "data": {
      "text/plain": [
       "<AxesSubplot:xlabel='children', ylabel='debt'>"
      ]
     },
     "execution_count": 22,
     "metadata": {},
     "output_type": "execute_result"
    },
    {
     "data": {
      "image/png": "[encoded data removed]",
      "text/plain": [
       "<Figure size 432x288 with 1 Axes>"
      ]
     },
     "metadata": {
      "needs_background": "light"
     },
     "output_type": "display_data"
    }
   ],
   "source": [
    "\n",
    "\n",
    "print(data.groupby('children').agg({'debt': ['count', 'sum']}))\n",
    "print(data.groupby('children')['debt'].mean().sort_values()) \n",
    "\n",
    "#выведем %% отношение кредитов с просрочкой к общему количеству кредиов в категорияях по наличию детей\n",
    "\n",
    "import seaborn\n",
    "\n",
    "seaborn.barplot(x = data['children'], y = data['debt'])"
   ]
  },
  {
   "cell_type": "markdown",
   "id": "2eb9088e",
   "metadata": {
    "deletable": false,
    "id": "2eb9088e"
   },
   "source": [
    "**Вывод:** если смотреть на абсолютные показатели наличия просроченных кредитов по категориям количества детей может показаться, что количество просроченных кредитов уменьшается с ростом количества детей, а наибольшее количество просрочек у кого детей нет, но если взглянуть на отностительные величины станет ясно, что доля просроченных кредитов без детей 7,5%, далее по возрастающей 3е детей - 8,2%, 2е детей - 9,2%. 1 ребенок - 9,45%, 4 ребенка - 9,75%. 5 детей - 0% При этом стоит учитывтаь, что выборка для 5-ти детей всего 9, что недостаточно для того, чтобы делать вывдоды.Как видно, зависимость не линейная. \n",
    "Уменьшение количества кредитов, в т.ч. просроченных в абсолютном выражении с ростом количества детей может быть связано с более осторожным подходом в принятии решения о получении кредита и возможными рисками при его наличии, а рост в относительном выражении говорит о том, что при наличии 1-2 и 4 детей выше вероятность того, что в первую очередь при возникновении финансовых сложностей обязательства по своевременному погашению кредита будут принимать меньший приоритет перед обеспечением иных потребностей таких людей в частности это могут быть продукты питания, одежда и т.п. для детей. Экспертным путем присвоим ретинг для каждой категории в зависимости от доли просроченных кредитов: максимальная доля просрочки имеет рейтинг 0, минимальный - 4. Чем выше ретинг тем вероятность просрочки ниже."
   ]
  },
  {
   "cell_type": "code",
   "execution_count": 23,
   "id": "ac24434e",
   "metadata": {},
   "outputs": [],
   "source": [
    "def rating_children(children):\n",
    "    try:\n",
    "        if children == 0:\n",
    "            return 4\n",
    "        elif children == 1:\n",
    "            return 2\n",
    "        elif children == 2:\n",
    "            return 1\n",
    "        elif children == 3:\n",
    "            return 3\n",
    "        elif children >= 4:\n",
    "            return 0\n",
    "    except:\n",
    "        pass \n",
    "data['rating_children'] = data['children'].apply(rating_children) \n",
    "\n",
    "#print(data.head(5))"
   ]
  },
  {
   "cell_type": "markdown",
   "id": "74c9b3a7",
   "metadata": {
    "deletable": false,
    "editable": false,
    "id": "74c9b3a7"
   },
   "source": "#### Зависимость между семейным положением и возвратом кредита в срок?"
  },
  {
   "cell_type": "code",
   "execution_count": 24,
   "id": "8098ab3b",
   "metadata": {
    "deletable": false,
    "id": "8098ab3b"
   },
   "outputs": [
    {
     "name": "stdout",
     "output_type": "stream",
     "text": [
      "                        debt     \n",
      "                       count  sum\n",
      "family_status                    \n",
      "Не женат / не замужем   2796  273\n",
      "в разводе               1189   84\n",
      "вдовец / вдова           951   63\n",
      "гражданский брак        4134  385\n",
      "женат / замужем        12261  927\n",
      "family_status\n",
      "вдовец / вдова           0.066246\n",
      "в разводе                0.070648\n",
      "женат / замужем          0.075606\n",
      "гражданский брак         0.093130\n",
      "Не женат / не замужем    0.097639\n",
      "Name: debt, dtype: float64\n"
     ]
    },
    {
     "data": {
      "text/plain": [
       "<AxesSubplot:xlabel='family_status', ylabel='debt'>"
      ]
     },
     "execution_count": 24,
     "metadata": {},
     "output_type": "execute_result"
    },
    {
     "data": {
      "image/png": "[encoded data removed]",
      "text/plain": [
       "<Figure size 432x288 with 1 Axes>"
      ]
     },
     "metadata": {
      "needs_background": "light"
     },
     "output_type": "display_data"
    }
   ],
   "source": [
    "\n",
    "\n",
    "print(data.groupby('family_status').agg({'debt': ['count', 'sum']})) #выведем количество кредитов и сумму кредитов с просрочкой по категориям\n",
    "print(data.groupby('family_status')['debt'].mean().sort_values()) #выведем %% отношение кредитов с просрочкой к общему количеству кретиов семейному статусу\n",
    "\n",
    "seaborn.barplot(x = data['family_status'], y = data['debt'])"
   ]
  },
  {
   "cell_type": "markdown",
   "id": "c389ca63",
   "metadata": {
    "deletable": false,
    "id": "c389ca63"
   },
   "source": [
    "**Вывод:** наибольшее количество кредитов имеют семейные пары, в в т.ч. находящиеся в гражданском браке, далее неженатые/незамужние и разведенные, наименьшее количество кредитов имеют вдовцы. Лучшее качество погащения демоенстрирует наименьшшая категория - вдовцы с долей просрочки 6,6%, далее по восходяшей разведенные и состоящие в браке с долями прочрочек 7,0% и 7,6% соответственно. Наибольша доля просроек наблюдается у категорий находящиеся в гражлансокм браке и неженатые/незамужние с долей прсрочек 9,3% и 9,7% соответственно. Аналогично категориям по наличию детей присвоим ретинг для каждой категории в зависимости от доли просроченных кредитов: максимальная доля просрочки имеет рейтинг 0, минимальный - 4. Чем выше ретинг тем вероятность просрочки ниже."
   ]
  },
  {
   "cell_type": "code",
   "execution_count": 25,
   "id": "8c0469c8",
   "metadata": {},
   "outputs": [],
   "source": [
    "def rating_family_status(family_status):\n",
    "    try:\n",
    "        if family_status == 'вдовец / вдова':\n",
    "            return 4\n",
    "        elif family_status == 'в разводе':\n",
    "            return 3\n",
    "        elif family_status == 'женат / замужем':\n",
    "            return 2\n",
    "        elif family_status == 'гражданский брак':\n",
    "            return 1\n",
    "        elif family_status == 'Не женат / не замужем':\n",
    "            return 0\n",
    "    except:\n",
    "        pass \n",
    "data['rating_family_status'] = data['family_status'].apply(rating_family_status) \n",
    "\n",
    "#print(data.head(5))"
   ]
  },
  {
   "cell_type": "markdown",
   "id": "9529de68",
   "metadata": {
    "deletable": false,
    "editable": false,
    "id": "9529de68"
   },
   "source": "#### Зависимость между уровнем дохода и возвратом кредита в срок?"
  },
  {
   "cell_type": "code",
   "execution_count": 26,
   "id": "8787f44a",
   "metadata": {
    "deletable": false,
    "id": "8787f44a",
    "scrolled": true
   },
   "outputs": [
    {
     "name": "stdout",
     "output_type": "stream",
     "text": [
      "                        debt      \n",
      "                       count   sum\n",
      "total_income_category             \n",
      "A                         25     2\n",
      "B                       5014   354\n",
      "C                      15921  1353\n",
      "D                        349    21\n",
      "E                         22     2\n",
      "total_income_category\n",
      "D    0.060172\n",
      "B    0.070602\n",
      "A    0.080000\n",
      "C    0.084982\n",
      "E    0.090909\n",
      "Name: debt, dtype: float64\n"
     ]
    },
    {
     "data": {
      "text/plain": [
       "<AxesSubplot:xlabel='total_income_category', ylabel='debt'>"
      ]
     },
     "execution_count": 26,
     "metadata": {},
     "output_type": "execute_result"
    },
    {
     "data": {
      "image/png": "[encoded data removed]",
      "text/plain": [
       "<Figure size 432x288 with 1 Axes>"
      ]
     },
     "metadata": {
      "needs_background": "light"
     },
     "output_type": "display_data"
    }
   ],
   "source": [
    "\n",
    "\n",
    "print(data.groupby('total_income_category').agg({'debt': ['count', 'sum']})) #выведем количество кредитов и сумму кредитов с просрочкой по категориям\n",
    "print(data.groupby('total_income_category')['debt'].mean().sort_values()) #выведем %% отношение кредитов с просрочкой к общему количеству кретиов в категорияях\n",
    "\n",
    "seaborn.barplot(x = data['total_income_category'], y = data['debt'])\n"
   ]
  },
  {
   "cell_type": "markdown",
   "id": "6dd14b57",
   "metadata": {
    "deletable": false,
    "id": "6dd14b57"
   },
   "source": [
    "**Вывод:** наибольший объем кредитов в абсолюном выражении сконцентрирован в категорях с совокупным доходом B (200001 - 1000000) и C (50001-200000), аналогично в кредитах с просрочкой. Оценим долю просроченных кредитов в каждой категории. Необходимос учесть, что верхняя (A) и нижняя (E) группы по размеру доходов представленны выборками в 25 и 22, что не дает возможности считать выборку репрезентативной. Т.О. указанные группы исключаются из анализа просроченной задолжености. Наименьшее количесво кредитов с просрочкой в категории D (30001-50000)с долей 6,0%, каьегория B (200001-1000000) с долей 7,1%, категория  C (50001-200000) - 8.5%. Зависимость количества просрочек и общего дохода нелинейная."
   ]
  },
  {
   "cell_type": "markdown",
   "id": "c7ca250c",
   "metadata": {},
   "source": [
    "\n",
    "Для предполагаемого расчета рейтинга анализируемых групп экспертным путем присвоим ретинг для каждой категории в зависимости от доли просроченных кредитов: максимальная доля просрочки имеет рейтинг 0, минимальный - 5. Чем выше ретинг тем вероятность просрочки ниже. Текущее задание не требует подобного расчета, но могу предположить, что при накоплении при наличии достаточного количества данных расчеты рейтинга будут полезны"
   ]
  },
  {
   "cell_type": "code",
   "execution_count": 27,
   "id": "1876bb24",
   "metadata": {},
   "outputs": [],
   "source": [
    "def rating_total_income_category(total_income_category):\n",
    "    try:\n",
    "        if total_income_category == 'A':\n",
    "            return 2\n",
    "        elif total_income_category == 'B':\n",
    "            return 3\n",
    "        elif total_income_category == 'C':\n",
    "            return 1\n",
    "        elif total_income_category == 'D':\n",
    "            return 4\n",
    "        elif total_income_category == 'E':\n",
    "            return 0\n",
    "    except:\n",
    "        pass \n",
    "data['rating_total_income_category'] = data['total_income_category'].apply(rating_total_income_category) \n",
    "\n",
    "#print(data.head(5))"
   ]
  },
  {
   "cell_type": "markdown",
   "id": "1dcc9b12",
   "metadata": {
    "deletable": false,
    "editable": false,
    "id": "1dcc9b12"
   },
   "source": "#### Как разные цели кредита влияют на его возврат в срок?"
  },
  {
   "cell_type": "code",
   "execution_count": 28,
   "id": "c602bc8b",
   "metadata": {
    "deletable": false,
    "id": "c602bc8b",
    "scrolled": true
   },
   "outputs": [
    {
     "name": "stdout",
     "output_type": "stream",
     "text": [
      "                           debt     \n",
      "                          count  sum\n",
      "purpose_category                    \n",
      "операции с автомобилем     4279  400\n",
      "операции с недвижимостью  10751  780\n",
      "получение образования      3988  369\n",
      "проведение свадьбы         2313  183\n",
      "purpose_category\n",
      "операции с недвижимостью    0.072551\n",
      "проведение свадьбы          0.079118\n",
      "получение образования       0.092528\n",
      "операции с автомобилем      0.093480\n",
      "Name: debt, dtype: float64\n"
     ]
    },
    {
     "data": {
      "text/plain": [
       "<AxesSubplot:xlabel='purpose_category', ylabel='debt'>"
      ]
     },
     "execution_count": 28,
     "metadata": {},
     "output_type": "execute_result"
    },
    {
     "data": {
      "image/png": "[encoded data removed]",
      "text/plain": [
       "<Figure size 432x288 with 1 Axes>"
      ]
     },
     "metadata": {
      "needs_background": "light"
     },
     "output_type": "display_data"
    }
   ],
   "source": [
    "\n",
    "\n",
    "print(data.groupby('purpose_category').agg({'debt': ['count', 'sum']})) #выведем количество кредитов и сумму кредитов с просрочкой по категориям\n",
    "\n",
    "print(data.groupby('purpose_category')['debt'].mean().sort_values()) #выведем %% отношение кредитов с просрочкой к общему количеству кретиов в категорияях по наличию детей\n",
    "\n",
    "seaborn.barplot(x = data['purpose_category'], y = data['debt'])\n"
   ]
  },
  {
   "cell_type": "markdown",
   "id": "cf05ed63",
   "metadata": {
    "deletable": false,
    "id": "cf05ed63"
   },
   "source": [
    "**Вывод:** по общему количеству кредитов в целевом назначении преоблдают кредиты по операциям с недвижимостью, далее операции с  автомобилем, получение образования и проведение свадьбы. Наименьшая доля просроек наблюдается у кредитов с целевым назначением операции с недвижимостью -7,3%. Кредиты на такие цели  как правило берутся осознанно тщательно рассчитывая сумму и возможность обслуживать задолженность. Далее с долей просрочек 7,9% идут кредиты на проведение свадьбы. Что частино может объясняться тем что в большинстве случаев в качестве свадебного подарка превалируют деньги, то молодожены рассчитвают погасить кредит за счет подаренных денег. Получение образования по доле просрочек - 9,3%. Вчершним студентам не всегда удается сразу после получения образования получить высокооплачиваемую работу и за счет этого своевременного погащать обязательства. Наибольшая доля просрочек в категории на операции с автомобилем - 9,3%. Автомобиль требует дополнительнх расхдов на содержание, обслуживание, страхование. Эти расходы не всегда учитываются при приобретеии и может привести к наличию прочроек из-за дополнительных непредвиденных расходах. Присвоим каждой категоии рейтинг."
   ]
  },
  {
   "cell_type": "code",
   "execution_count": 29,
   "id": "d33bf259",
   "metadata": {},
   "outputs": [],
   "source": [
    "def rating_purpose_category(purpose_category):\n",
    "    try:\n",
    "        if purpose_category == 'операции с недвижимостью':\n",
    "            return 4\n",
    "        elif purpose_category == 'проведение свадьбы':\n",
    "            return 3\n",
    "        elif purpose_category == 'получение образования':\n",
    "            return 2\n",
    "        elif purpose_category == 'операции с автомобилем':\n",
    "            return 1\n",
    "        elif children == 'нет категории':\n",
    "            return 0\n",
    "    except:\n",
    "        pass \n",
    "data['rating_purpose_category'] = data['purpose_category'].apply(rating_purpose_category) \n",
    "\n",
    "#print(data.head(5))"
   ]
  },
  {
   "cell_type": "markdown",
   "id": "46c1f10b",
   "metadata": {
    "deletable": false,
    "editable": false,
    "id": "46c1f10b"
   },
   "source": "#### Приведите возможные причины появления пропусков в исходных данных."
  },
  {
   "cell_type": "markdown",
   "id": "3697d2a9",
   "metadata": {
    "deletable": false,
    "id": "3697d2a9"
   },
   "source": [
    "*Ответ:* вероятные причины пропусков могут быть непреднамеренным сокрытием требуемых пааметров при заполнении заявки пользователем - получателем кредита, либо данные могут отсутствовать из-за ошибки выгрузки. Если обратить внимание на то, чт количество пропущенных строк по обоим параметрам одинаковое, возможной причиной пропусков могут быть отсутствие необходимости их заполнения либо иной канал прихода клиентов и данные либо не хаоплняются в рамках продукта по этим каналам продаж либо эти данные могут находиться в других базах данных"
   ]
  },
  {
   "cell_type": "markdown",
   "id": "57bc304e",
   "metadata": {
    "deletable": false,
    "editable": false,
    "id": "57bc304e"
   },
   "source": "## Общий вывод."
  },
  {
   "cell_type": "markdown",
   "id": "1ab75d1c",
   "metadata": {
    "deletable": false,
    "id": "1ab75d1c"
   },
   "source": [
    "Напишите ваш общий вывод. \n",
    "На основе проведенного анализа по разным категориям можно представить вероятный наиболее часто встречающийся тип клиента, а на основе доли просрочек наиболее благоприятный и неблагоприятный по возвратности образ клиента. \n",
    "По наиболее часто встречающийся тип клиента: на операции с недвижимостью, с доходом 50001-200000, женат/замужем, без детей.\n",
    "\n",
    "Наиболее приоритетный образ клиента на основе полученнных минимальных расчетных показетелй наличия просроченых кредитов \n",
    "выступает: кредиты на операции с недвижимостью (7,3% просроченной задолженности), с доходом в категории B - 200001-1000000 (7,1% просроченной задолженности) (выборка в категории D 30001-50000 значительно меньше всего 349 креитов против 5014 в категории B и 15921 в категории C, чего недостаточно для формирования достоверного результата по возвратности), вдовец/вдова (6,6% просроченной задолженности, далее по объему выборки и росту объема просроченных кредитов категория в разводе  и женат/замужем как близкая по объему выборки и следующей по доле просроченных кредитов категории, 7,1% и 7,6% соответственно просроченных кредитов), без детей с долей просрочки 7,5%.\n",
    "Наименее ответственные клиенты предпоитают брать кредиты на операции с автомобилем - 9,3% просрочек, с уровнем доходов категории C (50001-200000) - 8.5% просроченных кредитов, не женатые/не замужние - 9,8% просрочек и с 4-мя детьми - доля просрочек по такой категории 9,8%\n",
    "Т.к. \"идеальные\" клиенты на практике встречаются редко, то для каждого клиента возможно выстроить систему рейтингов рассчитанных на основе базы данных о клиентах, которая должна регулярно актуализироваться с пересчетом ретингов по категориям.(Как правило основой являются категория назначения кредита и уже от этого устанавливается внутренний рейтинг, но в нашем случае мы этого делать не будем, ограничимся расчетом общего рейтинга) \n",
    "\n"
   ]
  },
  {
   "cell_type": "code",
   "execution_count": null,
   "id": "e8160221",
   "metadata": {},
   "outputs": [],
   "source": []
  }
 ],
 "metadata": {
  "ExecuteTimeLog": [
   {
    "duration": 46,
    "start_time": "2024-05-02T17:32:42.361Z"
   },
   {
    "duration": 53,
    "start_time": "2024-05-02T17:32:50.139Z"
   },
   {
    "duration": 70,
    "start_time": "2024-05-02T17:32:54.407Z"
   },
   {
    "duration": 22,
    "start_time": "2024-05-02T17:32:57.224Z"
   },
   {
    "duration": 15,
    "start_time": "2024-05-02T17:32:58.743Z"
   },
   {
    "duration": 13,
    "start_time": "2024-05-02T17:33:01.119Z"
   },
   {
    "duration": 35,
    "start_time": "2024-05-02T17:33:02.262Z"
   },
   {
    "duration": 3,
    "start_time": "2024-05-02T17:33:03.951Z"
   },
   {
    "duration": 7,
    "start_time": "2024-05-02T17:33:05.088Z"
   },
   {
    "duration": 4,
    "start_time": "2024-05-02T17:33:07.024Z"
   },
   {
    "duration": 6,
    "start_time": "2024-05-02T17:33:08.352Z"
   },
   {
    "duration": 4,
    "start_time": "2024-05-02T17:33:09.698Z"
   },
   {
    "duration": 35,
    "start_time": "2024-05-02T17:33:13.083Z"
   },
   {
    "duration": 11,
    "start_time": "2024-05-02T17:33:14.419Z"
   },
   {
    "duration": 4,
    "start_time": "2024-05-02T17:33:16.145Z"
   },
   {
    "duration": 13,
    "start_time": "2024-05-02T17:33:17.971Z"
   },
   {
    "duration": 21,
    "start_time": "2024-05-02T17:33:19.280Z"
   },
   {
    "duration": 16,
    "start_time": "2024-05-02T17:33:20.112Z"
   },
   {
    "duration": 3,
    "start_time": "2024-05-02T17:33:23.774Z"
   },
   {
    "duration": 11,
    "start_time": "2024-05-02T17:33:24.486Z"
   },
   {
    "duration": 6,
    "start_time": "2024-05-02T17:33:26.087Z"
   },
   {
    "duration": 3,
    "start_time": "2024-05-02T17:33:27.672Z"
   },
   {
    "duration": 9,
    "start_time": "2024-05-02T17:33:28.335Z"
   },
   {
    "duration": 23,
    "start_time": "2024-05-02T17:33:31.499Z"
   },
   {
    "duration": 28,
    "start_time": "2024-05-02T17:39:00.404Z"
   },
   {
    "duration": 15,
    "start_time": "2024-05-02T17:39:18.456Z"
   },
   {
    "duration": 13,
    "start_time": "2024-05-02T17:40:24.568Z"
   },
   {
    "duration": 4,
    "start_time": "2024-05-02T17:41:41.960Z"
   },
   {
    "duration": 5,
    "start_time": "2024-05-02T17:41:51.768Z"
   },
   {
    "duration": 5,
    "start_time": "2024-05-02T17:42:43.392Z"
   },
   {
    "duration": 5,
    "start_time": "2024-05-02T17:44:22.457Z"
   },
   {
    "duration": 6,
    "start_time": "2024-05-02T17:44:35.065Z"
   },
   {
    "duration": 6,
    "start_time": "2024-05-02T17:45:40.986Z"
   },
   {
    "duration": 8,
    "start_time": "2024-05-02T17:46:00.211Z"
   },
   {
    "duration": 6,
    "start_time": "2024-05-02T17:51:00.171Z"
   },
   {
    "duration": 5,
    "start_time": "2024-05-02T17:51:21.501Z"
   },
   {
    "duration": 6,
    "start_time": "2024-05-02T17:51:37.861Z"
   },
   {
    "duration": 6,
    "start_time": "2024-05-02T17:51:47.089Z"
   },
   {
    "duration": 4,
    "start_time": "2024-05-02T17:54:55.097Z"
   },
   {
    "duration": 5,
    "start_time": "2024-05-02T17:55:08.790Z"
   },
   {
    "duration": 6,
    "start_time": "2024-05-02T17:58:12.981Z"
   },
   {
    "duration": 5,
    "start_time": "2024-05-02T18:00:50.187Z"
   },
   {
    "duration": 5,
    "start_time": "2024-05-02T18:00:56.180Z"
   },
   {
    "duration": 24,
    "start_time": "2024-05-02T18:02:01.549Z"
   },
   {
    "duration": 18,
    "start_time": "2024-05-02T18:02:21.037Z"
   },
   {
    "duration": 69,
    "start_time": "2024-05-02T18:18:56.796Z"
   },
   {
    "duration": 8,
    "start_time": "2024-05-02T18:21:11.098Z"
   },
   {
    "duration": 5,
    "start_time": "2024-05-02T18:22:33.722Z"
   },
   {
    "duration": 4,
    "start_time": "2024-05-02T18:22:55.689Z"
   },
   {
    "duration": 8,
    "start_time": "2024-05-02T18:24:00.752Z"
   },
   {
    "duration": 10,
    "start_time": "2024-05-02T18:25:54.618Z"
   },
   {
    "duration": 12,
    "start_time": "2024-05-02T18:26:56.016Z"
   },
   {
    "duration": 9,
    "start_time": "2024-05-02T18:28:56.493Z"
   },
   {
    "duration": 9,
    "start_time": "2024-05-02T18:33:20.774Z"
   },
   {
    "duration": 75,
    "start_time": "2024-05-02T18:39:23.345Z"
   },
   {
    "duration": 9,
    "start_time": "2024-05-02T18:39:32.192Z"
   },
   {
    "duration": 599,
    "start_time": "2024-05-03T09:19:34.935Z"
   },
   {
    "duration": 21,
    "start_time": "2024-05-03T09:19:37.464Z"
   },
   {
    "duration": 16,
    "start_time": "2024-05-03T09:19:38.790Z"
   },
   {
    "duration": 16,
    "start_time": "2024-05-03T09:19:40.848Z"
   },
   {
    "duration": 35,
    "start_time": "2024-05-03T09:19:41.870Z"
   },
   {
    "duration": 5,
    "start_time": "2024-05-03T09:19:43.479Z"
   },
   {
    "duration": 9,
    "start_time": "2024-05-03T09:19:46.135Z"
   },
   {
    "duration": 4,
    "start_time": "2024-05-03T09:19:47.910Z"
   },
   {
    "duration": 9,
    "start_time": "2024-05-03T09:19:48.935Z"
   },
   {
    "duration": 5,
    "start_time": "2024-05-03T09:19:49.974Z"
   },
   {
    "duration": 34,
    "start_time": "2024-05-03T09:19:51.327Z"
   },
   {
    "duration": 11,
    "start_time": "2024-05-03T09:19:52.326Z"
   },
   {
    "duration": 4,
    "start_time": "2024-05-03T09:19:53.895Z"
   },
   {
    "duration": 12,
    "start_time": "2024-05-03T09:19:55.495Z"
   },
   {
    "duration": 19,
    "start_time": "2024-05-03T09:19:57.002Z"
   },
   {
    "duration": 17,
    "start_time": "2024-05-03T09:19:57.455Z"
   },
   {
    "duration": 4,
    "start_time": "2024-05-03T09:19:59.094Z"
   },
   {
    "duration": 19,
    "start_time": "2024-05-03T09:19:59.679Z"
   },
   {
    "duration": 6,
    "start_time": "2024-05-03T09:20:01.335Z"
   },
   {
    "duration": 4,
    "start_time": "2024-05-03T09:20:02.690Z"
   },
   {
    "duration": 9,
    "start_time": "2024-05-03T09:20:03.174Z"
   },
   {
    "duration": 1012,
    "start_time": "2024-05-03T09:22:12.917Z"
   },
   {
    "duration": 29,
    "start_time": "2024-05-03T09:22:35.294Z"
   },
   {
    "duration": 20,
    "start_time": "2024-05-03T09:22:47.373Z"
   },
   {
    "duration": 353,
    "start_time": "2024-05-03T09:23:22.677Z"
   },
   {
    "duration": 492,
    "start_time": "2024-05-03T09:26:40.989Z"
   },
   {
    "duration": 475,
    "start_time": "2024-05-03T09:26:58.701Z"
   },
   {
    "duration": 268,
    "start_time": "2024-05-03T09:28:09.259Z"
   },
   {
    "duration": 317,
    "start_time": "2024-05-03T09:28:33.299Z"
   },
   {
    "duration": 327,
    "start_time": "2024-05-03T09:29:04.786Z"
   },
   {
    "duration": 319,
    "start_time": "2024-05-03T09:30:18.017Z"
   },
   {
    "duration": 350,
    "start_time": "2024-05-03T09:31:13.283Z"
   },
   {
    "duration": 394,
    "start_time": "2024-05-03T09:31:16.681Z"
   },
   {
    "duration": 318,
    "start_time": "2024-05-03T09:31:23.153Z"
   },
   {
    "duration": 374,
    "start_time": "2024-05-03T09:32:16.273Z"
   },
   {
    "duration": 6,
    "start_time": "2024-05-03T09:35:42.247Z"
   },
   {
    "duration": 7,
    "start_time": "2024-05-03T09:35:57.423Z"
   },
   {
    "duration": 367,
    "start_time": "2024-05-03T09:36:32.623Z"
   },
   {
    "duration": 662,
    "start_time": "2024-05-04T07:42:06.608Z"
   },
   {
    "duration": 24,
    "start_time": "2024-05-04T07:42:10.257Z"
   },
   {
    "duration": 15,
    "start_time": "2024-05-04T07:42:13.505Z"
   },
   {
    "duration": 14,
    "start_time": "2024-05-04T07:42:35.141Z"
   },
   {
    "duration": 4,
    "start_time": "2024-05-04T07:43:04.092Z"
   },
   {
    "duration": 13,
    "start_time": "2024-05-04T07:43:12.543Z"
   },
   {
    "duration": 5,
    "start_time": "2024-05-04T07:46:07.284Z"
   },
   {
    "duration": 10,
    "start_time": "2024-05-04T07:52:26.139Z"
   },
   {
    "duration": 27,
    "start_time": "2024-05-04T07:52:47.972Z"
   },
   {
    "duration": 11,
    "start_time": "2024-05-04T08:02:08.512Z"
   },
   {
    "duration": 44,
    "start_time": "2024-05-04T08:02:22.769Z"
   },
   {
    "duration": 4,
    "start_time": "2024-05-04T08:02:24.730Z"
   },
   {
    "duration": 8,
    "start_time": "2024-05-04T08:02:26.066Z"
   },
   {
    "duration": 4,
    "start_time": "2024-05-04T08:02:28.164Z"
   },
   {
    "duration": 25,
    "start_time": "2024-05-04T08:02:29.645Z"
   },
   {
    "duration": 5,
    "start_time": "2024-05-04T08:02:31.008Z"
   },
   {
    "duration": 37,
    "start_time": "2024-05-04T08:02:33.571Z"
   },
   {
    "duration": 10,
    "start_time": "2024-05-04T08:02:35.154Z"
   },
   {
    "duration": 4,
    "start_time": "2024-05-04T08:02:37.555Z"
   },
   {
    "duration": 11,
    "start_time": "2024-05-04T08:02:39.725Z"
   },
   {
    "duration": 22,
    "start_time": "2024-05-04T08:02:41.098Z"
   },
   {
    "duration": 27,
    "start_time": "2024-05-04T08:02:41.846Z"
   },
   {
    "duration": 4,
    "start_time": "2024-05-04T08:02:44.127Z"
   },
   {
    "duration": 11,
    "start_time": "2024-05-04T08:02:45.047Z"
   },
   {
    "duration": 6,
    "start_time": "2024-05-04T08:02:48.860Z"
   },
   {
    "duration": 3,
    "start_time": "2024-05-04T08:02:50.344Z"
   },
   {
    "duration": 8,
    "start_time": "2024-05-04T08:02:51.044Z"
   },
   {
    "duration": 1381,
    "start_time": "2024-05-04T08:02:53.176Z"
   },
   {
    "duration": 338,
    "start_time": "2024-05-04T08:02:58.521Z"
   },
   {
    "duration": 354,
    "start_time": "2024-05-04T08:03:00.989Z"
   },
   {
    "duration": 349,
    "start_time": "2024-05-04T08:03:03.388Z"
   },
   {
    "duration": 41,
    "start_time": "2024-05-04T12:12:43.353Z"
   },
   {
    "duration": 571,
    "start_time": "2024-05-04T12:12:54.229Z"
   },
   {
    "duration": 18,
    "start_time": "2024-05-04T12:12:56.035Z"
   },
   {
    "duration": 11,
    "start_time": "2024-05-04T12:12:56.939Z"
   },
   {
    "duration": 8,
    "start_time": "2024-05-04T12:12:58.188Z"
   },
   {
    "duration": 27,
    "start_time": "2024-05-04T12:12:59.466Z"
   },
   {
    "duration": 3,
    "start_time": "2024-05-04T12:13:01.233Z"
   },
   {
    "duration": 9,
    "start_time": "2024-05-04T12:13:05.652Z"
   },
   {
    "duration": 3,
    "start_time": "2024-05-04T12:13:07.827Z"
   },
   {
    "duration": 5,
    "start_time": "2024-05-04T12:13:09.256Z"
   },
   {
    "duration": 4,
    "start_time": "2024-05-04T12:13:10.515Z"
   },
   {
    "duration": 25,
    "start_time": "2024-05-04T12:13:12.511Z"
   },
   {
    "duration": 8,
    "start_time": "2024-05-04T12:13:13.649Z"
   },
   {
    "duration": 4,
    "start_time": "2024-05-04T12:13:16.661Z"
   },
   {
    "duration": 9,
    "start_time": "2024-05-04T12:13:19.204Z"
   },
   {
    "duration": 18,
    "start_time": "2024-05-04T12:13:21.010Z"
   },
   {
    "duration": 15,
    "start_time": "2024-05-04T12:13:21.965Z"
   },
   {
    "duration": 3,
    "start_time": "2024-05-04T12:13:24.749Z"
   },
   {
    "duration": 7,
    "start_time": "2024-05-04T12:13:25.560Z"
   },
   {
    "duration": 5,
    "start_time": "2024-05-04T12:13:27.352Z"
   },
   {
    "duration": 2,
    "start_time": "2024-05-04T12:13:28.684Z"
   },
   {
    "duration": 7,
    "start_time": "2024-05-04T12:13:29.359Z"
   },
   {
    "duration": 39,
    "start_time": "2024-05-04T12:13:32.063Z"
   },
   {
    "duration": 1061,
    "start_time": "2024-05-04T12:16:49.728Z"
   },
   {
    "duration": 288,
    "start_time": "2024-05-04T12:17:11.174Z"
   },
   {
    "duration": 283,
    "start_time": "2024-05-04T12:17:40.770Z"
   },
   {
    "duration": 3,
    "start_time": "2024-05-04T12:18:18.762Z"
   },
   {
    "duration": 7,
    "start_time": "2024-05-04T12:18:19.500Z"
   },
   {
    "duration": 277,
    "start_time": "2024-05-04T12:18:45.694Z"
   },
   {
    "duration": 291,
    "start_time": "2024-05-04T12:19:27.782Z"
   },
   {
    "duration": 319,
    "start_time": "2024-05-04T12:26:10.314Z"
   },
   {
    "duration": 136,
    "start_time": "2024-05-04T12:26:33.183Z"
   },
   {
    "duration": 150,
    "start_time": "2024-05-04T12:29:10.200Z"
   },
   {
    "duration": 319,
    "start_time": "2024-05-04T12:31:32.550Z"
   },
   {
    "duration": 309,
    "start_time": "2024-05-04T12:33:43.947Z"
   },
   {
    "duration": 101,
    "start_time": "2024-05-04T12:40:31.811Z"
   },
   {
    "duration": 304,
    "start_time": "2024-05-04T12:44:37.861Z"
   },
   {
    "duration": 265,
    "start_time": "2024-05-04T12:52:59.485Z"
   },
   {
    "duration": 68,
    "start_time": "2024-05-04T13:18:54.400Z"
   },
   {
    "duration": 56,
    "start_time": "2024-05-04T13:19:05.363Z"
   },
   {
    "duration": 278,
    "start_time": "2024-05-04T13:20:51.995Z"
   },
   {
    "duration": 272,
    "start_time": "2024-05-04T13:22:25.546Z"
   },
   {
    "duration": 284,
    "start_time": "2024-05-04T13:22:50.760Z"
   },
   {
    "duration": 11,
    "start_time": "2024-05-04T13:23:10.232Z"
   },
   {
    "duration": 6,
    "start_time": "2024-05-04T13:23:21.982Z"
   },
   {
    "duration": 10,
    "start_time": "2024-05-04T13:27:16.861Z"
   },
   {
    "duration": 6,
    "start_time": "2024-05-04T13:27:34.562Z"
   },
   {
    "duration": 10,
    "start_time": "2024-05-04T13:27:36.838Z"
   },
   {
    "duration": 15,
    "start_time": "2024-05-04T13:28:59.693Z"
   },
   {
    "duration": 10,
    "start_time": "2024-05-04T13:34:16.511Z"
   },
   {
    "duration": 15,
    "start_time": "2024-05-04T13:34:38.149Z"
   },
   {
    "duration": 5,
    "start_time": "2024-05-04T13:36:11.400Z"
   },
   {
    "duration": 15,
    "start_time": "2024-05-04T13:36:18.143Z"
   },
   {
    "duration": 270,
    "start_time": "2024-05-04T13:36:36.433Z"
   },
   {
    "duration": 6,
    "start_time": "2024-05-04T13:36:38.055Z"
   },
   {
    "duration": 15,
    "start_time": "2024-05-04T13:36:41.926Z"
   },
   {
    "duration": 270,
    "start_time": "2024-05-04T13:36:52.848Z"
   },
   {
    "duration": 13,
    "start_time": "2024-05-04T13:37:19.240Z"
   },
   {
    "duration": 3,
    "start_time": "2024-05-04T13:38:16.142Z"
   },
   {
    "duration": 7,
    "start_time": "2024-05-04T13:38:16.886Z"
   },
   {
    "duration": 290,
    "start_time": "2024-05-04T13:38:18.406Z"
   },
   {
    "duration": 265,
    "start_time": "2024-05-04T13:38:20.590Z"
   },
   {
    "duration": 6,
    "start_time": "2024-05-04T13:38:24.450Z"
   },
   {
    "duration": 13,
    "start_time": "2024-05-04T13:38:28.120Z"
   },
   {
    "duration": 371,
    "start_time": "2024-05-04T13:40:15.537Z"
   },
   {
    "duration": 20,
    "start_time": "2024-05-04T13:40:16.903Z"
   },
   {
    "duration": 11,
    "start_time": "2024-05-04T13:40:18.101Z"
   },
   {
    "duration": 7,
    "start_time": "2024-05-04T13:40:20.537Z"
   },
   {
    "duration": 29,
    "start_time": "2024-05-04T13:40:21.736Z"
   },
   {
    "duration": 3,
    "start_time": "2024-05-04T13:40:23.369Z"
   },
   {
    "duration": 7,
    "start_time": "2024-05-04T13:40:24.457Z"
   },
   {
    "duration": 4,
    "start_time": "2024-05-04T13:40:26.021Z"
   },
   {
    "duration": 5,
    "start_time": "2024-05-04T13:40:27.053Z"
   },
   {
    "duration": 5,
    "start_time": "2024-05-04T13:40:28.086Z"
   },
   {
    "duration": 27,
    "start_time": "2024-05-04T13:40:30.904Z"
   },
   {
    "duration": 7,
    "start_time": "2024-05-04T13:40:32.144Z"
   },
   {
    "duration": 3,
    "start_time": "2024-05-04T13:40:33.981Z"
   },
   {
    "duration": 9,
    "start_time": "2024-05-04T13:40:35.613Z"
   },
   {
    "duration": 22,
    "start_time": "2024-05-04T13:40:36.675Z"
   },
   {
    "duration": 22,
    "start_time": "2024-05-04T13:40:37.143Z"
   },
   {
    "duration": 3,
    "start_time": "2024-05-04T13:40:38.976Z"
   },
   {
    "duration": 9,
    "start_time": "2024-05-04T13:40:40.835Z"
   },
   {
    "duration": 6,
    "start_time": "2024-05-04T13:40:42.217Z"
   },
   {
    "duration": 3,
    "start_time": "2024-05-04T13:40:43.712Z"
   },
   {
    "duration": 7,
    "start_time": "2024-05-04T13:40:45.089Z"
   },
   {
    "duration": 969,
    "start_time": "2024-05-04T13:40:47.764Z"
   },
   {
    "duration": 274,
    "start_time": "2024-05-04T13:40:50.995Z"
   },
   {
    "duration": 6,
    "start_time": "2024-05-04T13:40:55.499Z"
   },
   {
    "duration": 14,
    "start_time": "2024-05-04T13:40:57.715Z"
   },
   {
    "duration": 268,
    "start_time": "2024-05-04T13:41:38.567Z"
   },
   {
    "duration": 293,
    "start_time": "2024-05-04T13:41:56.058Z"
   },
   {
    "duration": 13,
    "start_time": "2024-05-04T13:50:08.829Z"
   },
   {
    "duration": 17,
    "start_time": "2024-05-04T13:51:14.125Z"
   },
   {
    "duration": 260,
    "start_time": "2024-05-04T14:27:48.261Z"
   },
   {
    "duration": 16,
    "start_time": "2024-05-04T14:27:49.451Z"
   },
   {
    "duration": 307,
    "start_time": "2024-05-04T14:28:44.727Z"
   },
   {
    "duration": 15,
    "start_time": "2024-05-04T14:28:46.041Z"
   },
   {
    "duration": 13,
    "start_time": "2024-05-04T14:29:28.662Z"
   },
   {
    "duration": 15,
    "start_time": "2024-05-04T14:29:56.165Z"
   },
   {
    "duration": 271,
    "start_time": "2024-05-04T14:30:38.449Z"
   },
   {
    "duration": 268,
    "start_time": "2024-05-04T14:33:29.053Z"
   },
   {
    "duration": 15,
    "start_time": "2024-05-04T14:57:30.029Z"
   },
   {
    "duration": 14,
    "start_time": "2024-05-04T14:59:49.009Z"
   },
   {
    "duration": 289,
    "start_time": "2024-05-04T15:00:02.405Z"
   },
   {
    "duration": 64,
    "start_time": "2024-05-04T15:51:23.433Z"
   },
   {
    "duration": 15,
    "start_time": "2024-05-04T15:51:59.237Z"
   },
   {
    "duration": 438,
    "start_time": "2024-05-04T15:52:49.774Z"
   },
   {
    "duration": 17,
    "start_time": "2024-05-04T15:52:51.560Z"
   },
   {
    "duration": 12,
    "start_time": "2024-05-04T15:52:53.035Z"
   },
   {
    "duration": 8,
    "start_time": "2024-05-04T15:52:55.978Z"
   },
   {
    "duration": 26,
    "start_time": "2024-05-04T15:52:57.274Z"
   },
   {
    "duration": 3,
    "start_time": "2024-05-04T15:52:59.080Z"
   },
   {
    "duration": 6,
    "start_time": "2024-05-04T15:53:00.399Z"
   },
   {
    "duration": 4,
    "start_time": "2024-05-04T15:53:02.349Z"
   },
   {
    "duration": 5,
    "start_time": "2024-05-04T15:53:03.655Z"
   },
   {
    "duration": 4,
    "start_time": "2024-05-04T15:53:04.832Z"
   },
   {
    "duration": 26,
    "start_time": "2024-05-04T15:53:06.871Z"
   },
   {
    "duration": 8,
    "start_time": "2024-05-04T15:53:08.128Z"
   },
   {
    "duration": 3,
    "start_time": "2024-05-04T15:53:10.264Z"
   },
   {
    "duration": 9,
    "start_time": "2024-05-04T15:53:12.285Z"
   },
   {
    "duration": 17,
    "start_time": "2024-05-04T15:53:13.727Z"
   },
   {
    "duration": 15,
    "start_time": "2024-05-04T15:53:14.322Z"
   },
   {
    "duration": 2,
    "start_time": "2024-05-04T15:53:16.345Z"
   },
   {
    "duration": 9,
    "start_time": "2024-05-04T15:53:17.116Z"
   },
   {
    "duration": 5,
    "start_time": "2024-05-04T15:53:18.553Z"
   },
   {
    "duration": 3,
    "start_time": "2024-05-04T15:53:20.147Z"
   },
   {
    "duration": 7,
    "start_time": "2024-05-04T15:53:20.901Z"
   },
   {
    "duration": 902,
    "start_time": "2024-05-04T15:53:22.928Z"
   },
   {
    "duration": 14,
    "start_time": "2024-05-04T15:53:24.948Z"
   },
   {
    "duration": 277,
    "start_time": "2024-05-04T15:53:26.979Z"
   },
   {
    "duration": 14,
    "start_time": "2024-05-04T15:53:28.944Z"
   },
   {
    "duration": 259,
    "start_time": "2024-05-04T15:53:30.691Z"
   },
   {
    "duration": 14,
    "start_time": "2024-05-04T15:53:32.424Z"
   },
   {
    "duration": 264,
    "start_time": "2024-05-04T15:53:34.176Z"
   },
   {
    "duration": 14,
    "start_time": "2024-05-04T15:53:36.027Z"
   },
   {
    "duration": 285,
    "start_time": "2024-05-04T15:55:54.306Z"
   },
   {
    "duration": 14,
    "start_time": "2024-05-04T15:55:58.647Z"
   },
   {
    "duration": 280,
    "start_time": "2024-05-04T15:56:03.307Z"
   },
   {
    "duration": 9,
    "start_time": "2024-05-04T15:56:05.848Z"
   },
   {
    "duration": 255,
    "start_time": "2024-05-04T15:56:07.868Z"
   },
   {
    "duration": 9,
    "start_time": "2024-05-04T15:56:10.707Z"
   },
   {
    "duration": 281,
    "start_time": "2024-05-04T15:56:12.612Z"
   },
   {
    "duration": 8,
    "start_time": "2024-05-04T15:56:14.649Z"
   },
   {
    "duration": 8,
    "start_time": "2024-05-04T17:00:38.500Z"
   },
   {
    "duration": 4,
    "start_time": "2024-05-04T17:03:00.583Z"
   },
   {
    "duration": 774,
    "start_time": "2024-05-05T11:38:03.853Z"
   },
   {
    "duration": 24,
    "start_time": "2024-05-05T11:38:04.628Z"
   },
   {
    "duration": 16,
    "start_time": "2024-05-05T11:38:04.653Z"
   },
   {
    "duration": 18,
    "start_time": "2024-05-05T11:38:04.670Z"
   },
   {
    "duration": 37,
    "start_time": "2024-05-05T11:38:04.690Z"
   },
   {
    "duration": 3,
    "start_time": "2024-05-05T11:38:04.729Z"
   },
   {
    "duration": 11,
    "start_time": "2024-05-05T11:38:04.733Z"
   },
   {
    "duration": 4,
    "start_time": "2024-05-05T11:38:04.746Z"
   },
   {
    "duration": 11,
    "start_time": "2024-05-05T11:38:04.773Z"
   },
   {
    "duration": 4,
    "start_time": "2024-05-05T11:38:04.788Z"
   },
   {
    "duration": 46,
    "start_time": "2024-05-05T11:38:04.793Z"
   },
   {
    "duration": 10,
    "start_time": "2024-05-05T11:38:04.841Z"
   },
   {
    "duration": 23,
    "start_time": "2024-05-05T11:38:04.852Z"
   },
   {
    "duration": 17,
    "start_time": "2024-05-05T11:38:04.877Z"
   },
   {
    "duration": 21,
    "start_time": "2024-05-05T11:38:04.895Z"
   },
   {
    "duration": 17,
    "start_time": "2024-05-05T11:38:04.918Z"
   },
   {
    "duration": 4,
    "start_time": "2024-05-05T11:38:04.937Z"
   },
   {
    "duration": 34,
    "start_time": "2024-05-05T11:38:04.942Z"
   },
   {
    "duration": 10,
    "start_time": "2024-05-05T11:38:04.978Z"
   },
   {
    "duration": 4,
    "start_time": "2024-05-05T11:38:04.989Z"
   },
   {
    "duration": 24,
    "start_time": "2024-05-05T11:38:04.994Z"
   },
   {
    "duration": 1414,
    "start_time": "2024-05-05T11:38:05.020Z"
   },
   {
    "duration": 13,
    "start_time": "2024-05-05T11:38:06.436Z"
   },
   {
    "duration": 388,
    "start_time": "2024-05-05T11:38:06.451Z"
   },
   {
    "duration": 14,
    "start_time": "2024-05-05T11:38:06.841Z"
   },
   {
    "duration": 416,
    "start_time": "2024-05-05T11:38:06.857Z"
   },
   {
    "duration": 12,
    "start_time": "2024-05-05T11:38:07.274Z"
   },
   {
    "duration": 354,
    "start_time": "2024-05-05T11:38:07.289Z"
   },
   {
    "duration": 14,
    "start_time": "2024-05-05T11:38:07.644Z"
   },
   {
    "duration": 17,
    "start_time": "2024-05-05T11:38:07.659Z"
   },
   {
    "duration": 667,
    "start_time": "2024-05-06T10:42:19.560Z"
   },
   {
    "duration": 20,
    "start_time": "2024-05-06T10:42:21.961Z"
   },
   {
    "duration": 13,
    "start_time": "2024-05-06T10:42:22.935Z"
   },
   {
    "duration": 10,
    "start_time": "2024-05-06T10:42:24.551Z"
   },
   {
    "duration": 29,
    "start_time": "2024-05-06T10:42:25.009Z"
   },
   {
    "duration": 3,
    "start_time": "2024-05-06T10:42:25.607Z"
   },
   {
    "duration": 10,
    "start_time": "2024-05-06T10:42:26.311Z"
   },
   {
    "duration": 4,
    "start_time": "2024-05-06T10:42:26.983Z"
   },
   {
    "duration": 7,
    "start_time": "2024-05-06T10:42:27.478Z"
   },
   {
    "duration": 4,
    "start_time": "2024-05-06T10:42:27.903Z"
   },
   {
    "duration": 34,
    "start_time": "2024-05-06T10:42:28.592Z"
   },
   {
    "duration": 8,
    "start_time": "2024-05-06T10:42:29.119Z"
   },
   {
    "duration": 3,
    "start_time": "2024-05-06T10:42:30.367Z"
   },
   {
    "duration": 10,
    "start_time": "2024-05-06T10:42:31.767Z"
   },
   {
    "duration": 18,
    "start_time": "2024-05-06T10:42:33.575Z"
   },
   {
    "duration": 16,
    "start_time": "2024-05-06T10:42:34.215Z"
   },
   {
    "duration": 2,
    "start_time": "2024-05-06T10:42:36.113Z"
   },
   {
    "duration": 9,
    "start_time": "2024-05-06T10:42:40.719Z"
   },
   {
    "duration": 5,
    "start_time": "2024-05-06T10:42:42.545Z"
   },
   {
    "duration": 2,
    "start_time": "2024-05-06T10:42:45.261Z"
   },
   {
    "duration": 7,
    "start_time": "2024-05-06T10:42:46.127Z"
   },
   {
    "duration": 61,
    "start_time": "2024-05-06T10:43:24.495Z"
   },
   {
    "duration": 66,
    "start_time": "2024-05-06T11:29:50.039Z"
   },
   {
    "duration": 69,
    "start_time": "2024-05-06T11:30:06.369Z"
   },
   {
    "duration": 8,
    "start_time": "2024-05-06T11:31:12.791Z"
   },
   {
    "duration": 72,
    "start_time": "2024-05-06T11:31:14.416Z"
   },
   {
    "duration": 70,
    "start_time": "2024-05-06T11:31:34.159Z"
   },
   {
    "duration": 1141,
    "start_time": "2024-05-06T11:31:47.055Z"
   },
   {
    "duration": 275,
    "start_time": "2024-05-06T11:32:35.487Z"
   },
   {
    "duration": 9,
    "start_time": "2024-05-06T11:33:33.325Z"
   },
   {
    "duration": 10,
    "start_time": "2024-05-06T14:12:41.171Z"
   },
   {
    "duration": 310,
    "start_time": "2024-05-06T14:12:53.891Z"
   },
   {
    "duration": 278,
    "start_time": "2024-05-06T14:14:45.979Z"
   },
   {
    "duration": 54,
    "start_time": "2024-05-06T17:44:35.174Z"
   },
   {
    "duration": 654,
    "start_time": "2024-05-06T17:44:52.682Z"
   },
   {
    "duration": 23,
    "start_time": "2024-05-06T17:44:54.295Z"
   },
   {
    "duration": 16,
    "start_time": "2024-05-06T17:44:55.428Z"
   },
   {
    "duration": 12,
    "start_time": "2024-05-06T17:44:56.469Z"
   },
   {
    "duration": 37,
    "start_time": "2024-05-06T17:44:56.919Z"
   },
   {
    "duration": 8,
    "start_time": "2024-05-06T17:44:57.476Z"
   },
   {
    "duration": 9,
    "start_time": "2024-05-06T17:44:58.375Z"
   },
   {
    "duration": 5,
    "start_time": "2024-05-06T17:44:58.863Z"
   },
   {
    "duration": 7,
    "start_time": "2024-05-06T17:44:59.267Z"
   },
   {
    "duration": 5,
    "start_time": "2024-05-06T17:44:59.657Z"
   },
   {
    "duration": 38,
    "start_time": "2024-05-06T17:45:00.257Z"
   },
   {
    "duration": 11,
    "start_time": "2024-05-06T17:45:00.663Z"
   },
   {
    "duration": 4,
    "start_time": "2024-05-06T17:45:01.268Z"
   },
   {
    "duration": 13,
    "start_time": "2024-05-06T17:45:01.877Z"
   },
   {
    "duration": 25,
    "start_time": "2024-05-06T17:45:02.295Z"
   },
   {
    "duration": 19,
    "start_time": "2024-05-06T17:45:02.502Z"
   },
   {
    "duration": 3,
    "start_time": "2024-05-06T17:45:04.035Z"
   },
   {
    "duration": 11,
    "start_time": "2024-05-06T17:45:04.955Z"
   },
   {
    "duration": 9,
    "start_time": "2024-05-06T17:45:06.241Z"
   },
   {
    "duration": 4,
    "start_time": "2024-05-06T17:45:08.228Z"
   },
   {
    "duration": 10,
    "start_time": "2024-05-06T17:45:09.197Z"
   },
   {
    "duration": 1391,
    "start_time": "2024-05-06T17:45:13.576Z"
   },
   {
    "duration": 12,
    "start_time": "2024-05-06T17:45:23.423Z"
   },
   {
    "duration": 375,
    "start_time": "2024-05-06T17:45:35.094Z"
   },
   {
    "duration": 14,
    "start_time": "2024-05-06T17:46:08.156Z"
   },
   {
    "duration": 393,
    "start_time": "2024-05-06T17:46:41.153Z"
   },
   {
    "duration": 12,
    "start_time": "2024-05-06T17:46:54.132Z"
   },
   {
    "duration": 346,
    "start_time": "2024-05-06T17:47:05.458Z"
   },
   {
    "duration": 13,
    "start_time": "2024-05-06T17:47:34.664Z"
   },
   {
    "duration": 12,
    "start_time": "2024-05-06T18:16:06.748Z"
   },
   {
    "duration": 5,
    "start_time": "2024-05-06T18:16:25.981Z"
   },
   {
    "duration": 606,
    "start_time": "2024-05-07T15:41:15.617Z"
   },
   {
    "duration": 30,
    "start_time": "2024-05-07T15:41:16.226Z"
   },
   {
    "duration": 17,
    "start_time": "2024-05-07T15:41:16.257Z"
   },
   {
    "duration": 11,
    "start_time": "2024-05-07T15:41:16.276Z"
   },
   {
    "duration": 41,
    "start_time": "2024-05-07T15:41:16.288Z"
   },
   {
    "duration": 3,
    "start_time": "2024-05-07T15:41:16.331Z"
   },
   {
    "duration": 28,
    "start_time": "2024-05-07T15:41:16.336Z"
   },
   {
    "duration": 28,
    "start_time": "2024-05-07T15:41:16.366Z"
   },
   {
    "duration": 32,
    "start_time": "2024-05-07T15:41:16.396Z"
   },
   {
    "duration": 10,
    "start_time": "2024-05-07T15:41:16.432Z"
   },
   {
    "duration": 67,
    "start_time": "2024-05-07T15:41:16.444Z"
   },
   {
    "duration": 15,
    "start_time": "2024-05-07T15:41:16.513Z"
   },
   {
    "duration": 17,
    "start_time": "2024-05-07T15:41:16.530Z"
   },
   {
    "duration": 13,
    "start_time": "2024-05-07T15:41:16.549Z"
   },
   {
    "duration": 40,
    "start_time": "2024-05-07T15:41:16.564Z"
   },
   {
    "duration": 24,
    "start_time": "2024-05-07T15:41:16.606Z"
   },
   {
    "duration": 4,
    "start_time": "2024-05-07T15:41:16.632Z"
   },
   {
    "duration": 32,
    "start_time": "2024-05-07T15:41:16.638Z"
   },
   {
    "duration": 14,
    "start_time": "2024-05-07T15:41:16.672Z"
   },
   {
    "duration": 20,
    "start_time": "2024-05-07T15:41:16.688Z"
   },
   {
    "duration": 45,
    "start_time": "2024-05-07T15:41:16.709Z"
   },
   {
    "duration": 1320,
    "start_time": "2024-05-07T15:41:16.755Z"
   },
   {
    "duration": 12,
    "start_time": "2024-05-07T15:41:18.076Z"
   },
   {
    "duration": 436,
    "start_time": "2024-05-07T15:41:18.090Z"
   },
   {
    "duration": 14,
    "start_time": "2024-05-07T15:41:18.527Z"
   },
   {
    "duration": 395,
    "start_time": "2024-05-07T15:41:18.542Z"
   },
   {
    "duration": 28,
    "start_time": "2024-05-07T15:41:18.938Z"
   },
   {
    "duration": 324,
    "start_time": "2024-05-07T15:41:18.970Z"
   },
   {
    "duration": 18,
    "start_time": "2024-05-07T15:41:19.296Z"
   },
   {
    "duration": 7,
    "start_time": "2024-05-07T15:41:19.315Z"
   }
  ],
  "colab": {
   "provenance": []
  },
  "kernelspec": {
   "display_name": "Python [conda env:base] *",
   "language": "python",
   "name": "conda-base-py"
  },
  "language_info": {
   "codemirror_mode": {
    "name": "ipython",
    "version": 3
   },
   "file_extension": ".py",
   "mimetype": "text/x-python",
   "name": "python",
   "nbconvert_exporter": "python",
   "pygments_lexer": "ipython3",
   "version": "3.12.4"
  },
  "toc": {
   "base_numbering": 1,
   "nav_menu": {},
   "number_sections": true,
   "sideBar": true,
   "skip_h1_title": true,
   "title_cell": "Table of Contents",
   "title_sidebar": "Contents",
   "toc_cell": false,
   "toc_position": {},
   "toc_section_display": true,
   "toc_window_display": false
  }
 },
 "nbformat": 4,
 "nbformat_minor": 5
}
